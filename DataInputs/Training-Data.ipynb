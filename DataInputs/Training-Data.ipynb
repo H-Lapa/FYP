{
 "cells": [
  {
   "cell_type": "markdown",
   "metadata": {},
   "source": [
    "# Training Data Generator\n",
    "\n",
    "Purpose of this file is to:\n",
    "- Explain how the LLM training data is generated\n",
    "- What format the Data is in"
   ]
  },
  {
   "cell_type": "markdown",
   "metadata": {},
   "source": [
    "## Input Example\n",
    "\n",
    "**Week Ending on:** 2022-12-02\n",
    "\n",
    "**News Summary:**\n",
    "\n",
    "- **Title of Article 1** (2022-11-28): Summary of Article 1. Author: Author Name, Source: News Source, Sentiment Score: 0.5\n",
    "\n",
    "**Stock Closing Prices for Past 3 Months (Fridays):**\n",
    "\n",
    "- 2022-09-02: $3000, ...\n"
   ]
  },
  {
   "cell_type": "markdown",
   "metadata": {},
   "source": [
    "\n",
    "## Output Example\n",
    "\n",
    "**Predicted Stock Closing Prices for Next 12 Weeks (Fridays):**\n",
    "\n",
    "- 2022-12-09: $3050, ...\n",
    "\n",
    "**Predicted Market Sentiment:**\n",
    "\n",
    "- 0.5\n"
   ]
  },
  {
   "cell_type": "markdown",
   "metadata": {},
   "source": [
    "## Processing an Example"
   ]
  },
  {
   "cell_type": "markdown",
   "metadata": {},
   "source": [
    "### Imports"
   ]
  },
  {
   "cell_type": "code",
   "execution_count": 1,
   "metadata": {},
   "outputs": [],
   "source": [
    "import json\n",
    "import pandas as pd\n",
    "from datetime import datetime, timedelta"
   ]
  },
  {
   "cell_type": "markdown",
   "metadata": {},
   "source": [
    "### Get Friday Function\n",
    "\n",
    "- gets the friday of the week the input date is on"
   ]
  },
  {
   "cell_type": "code",
   "execution_count": 2,
   "metadata": {},
   "outputs": [],
   "source": [
    "\n",
    "def get_friday(date_str):\n",
    "    date = datetime.strptime(date_str, \"%Y%m%dT%H%M%S\")\n",
    "    return (date + timedelta(days=(4 - date.weekday()))).strftime(\"%Y-%m-%d\")\n"
   ]
  },
  {
   "cell_type": "markdown",
   "metadata": {},
   "source": [
    "### Open News &  Closing Price Dataset"
   ]
  },
  {
   "cell_type": "code",
   "execution_count": 3,
   "metadata": {},
   "outputs": [],
   "source": [
    "ticker = \"AAPL\""
   ]
  },
  {
   "cell_type": "code",
   "execution_count": 4,
   "metadata": {},
   "outputs": [],
   "source": [
    "\n",
    "# Load news data\n",
    "with open(f'./News/{ticker}_News/News_{ticker}_202301_to_202301.json', 'r') as file:\n",
    "    news_data = json.load(file)\n"
   ]
  },
  {
   "cell_type": "code",
   "execution_count": 6,
   "metadata": {},
   "outputs": [],
   "source": [
    "\n",
    "# Load price data\n",
    "with open(f'./Weekly-Closing-Prices/{ticker}_Pricing/{ticker}_weekly_close.json', 'r') as file:\n",
    "    price_data = json.load(file)\n"
   ]
  },
  {
   "cell_type": "markdown",
   "metadata": {},
   "source": [
    "### Group Articles by Week"
   ]
  },
  {
   "cell_type": "code",
   "execution_count": 7,
   "metadata": {},
   "outputs": [],
   "source": [
    "\n",
    "# Group articles by the week ending on Friday\n",
    "weekly_articles = {}\n",
    "for article in news_data['feed']:\n",
    "    date = get_friday(article['time_published'])\n",
    "    if date not in weekly_articles:\n",
    "        weekly_articles[date] = []\n",
    "    weekly_articles[date].append(article)\n"
   ]
  },
  {
   "cell_type": "code",
   "execution_count": 8,
   "metadata": {},
   "outputs": [],
   "source": [
    "\n",
    "for week in weekly_articles:\n",
    "    weekly_articles[week].sort(key=lambda x: x['time_published'])\n"
   ]
  },
  {
   "cell_type": "markdown",
   "metadata": {},
   "source": [
    "### Get Prices Function\n",
    "\n",
    "- Gets the past 3 months of close prices\n",
    "- gets the next 12 weeks of close prices"
   ]
  },
  {
   "cell_type": "code",
   "execution_count": 9,
   "metadata": {},
   "outputs": [],
   "source": [
    "\n",
    "# Function to get the past 3 months and next 12 weeks of prices (Fridays only)\n",
    "def get_prices(week_date, price_data, past_weeks=12, future_weeks=12):\n",
    "    past_prices = {}\n",
    "    future_prices = {}\n",
    "    current_date = datetime.strptime(week_date, \"%Y-%m-%d\")\n",
    "    \n",
    "    # Get past prices\n",
    "    for _ in range(past_weeks):\n",
    "        current_date -= timedelta(days=7)\n",
    "        date_str = current_date.strftime(\"%Y-%m-%d\")\n",
    "        if date_str in price_data:\n",
    "            past_prices[date_str] = price_data[date_str]\n",
    "\n",
    "    # Reset date and get future prices\n",
    "    current_date = datetime.strptime(week_date, \"%Y-%m-%d\")\n",
    "    for _ in range(future_weeks):\n",
    "        current_date += timedelta(days=7)\n",
    "        date_str = current_date.strftime(\"%Y-%m-%d\")\n",
    "        if date_str in price_data:\n",
    "            future_prices[date_str] = price_data[date_str]\n",
    "\n",
    "    return past_prices, future_prices\n"
   ]
  },
  {
   "cell_type": "markdown",
   "metadata": {},
   "source": [
    "### Adjusting Data for format"
   ]
  },
  {
   "cell_type": "code",
   "execution_count": 10,
   "metadata": {},
   "outputs": [],
   "source": [
    "\n",
    "# Prepare data for DataFrame\n",
    "data = []\n",
    "\n",
    "for week, articles in weekly_articles.items():\n",
    "    prompt = f\"Week Ending on {week}:\\n\\nNews Summary:\\n\"\n",
    "    total_sentiment = 0\n",
    "    for i, article in enumerate(articles, start=1):\n",
    "        date_published = datetime.strptime(article['time_published'], \"%Y%m%dT%H%M%S\").strftime(\"%Y-%m-%d\")\n",
    "        author = article['authors'][0] if article['authors'] else \"Unknown Author\"\n",
    "        prompt += f\"{i}. {article['title']} - {date_published}: {article['summary']}, Author: {author}, Source: {article['source']}, Sentiment Score: {article['overall_sentiment_score']}\\n\"\n",
    "        total_sentiment += article['overall_sentiment_score']\n",
    "\n",
    "    past_prices, future_prices = get_prices(week, price_data)\n",
    "\n",
    "    prompt += \"\\nStock Closing Prices for Past 3 Months (Fridays):\\n\"\n",
    "    for date, price in sorted(past_prices.items()):\n",
    "        prompt += f\"{date}: {price}, \"\n",
    "\n",
    "    output = \"\\nPredicted Stock Closing Prices for Next 12 Weeks (Fridays):\\n\"\n",
    "    for date, price in sorted(future_prices.items()):\n",
    "        output += f\"{date}: {price}, \"\n",
    "    output += f\"\\nPredicted Market Sentiment: {total_sentiment / len(articles) if articles else 'N/A'}\"\n",
    "\n",
    "    data.append([week, prompt, output])\n"
   ]
  },
  {
   "cell_type": "markdown",
   "metadata": {},
   "source": [
    "###  Saving Data to Excel"
   ]
  },
  {
   "cell_type": "code",
   "execution_count": 11,
   "metadata": {},
   "outputs": [],
   "source": [
    "\n",
    "# Create DataFrame and save as Excel\n",
    "df = pd.DataFrame(data, columns=['Week', 'Prompt', 'Output'])\n",
    "df.to_excel('LLM-Training-Dataset/example_training_data.xlsx', index=False)\n"
   ]
  },
  {
   "cell_type": "markdown",
   "metadata": {},
   "source": [
    "# Final Data Generator"
   ]
  },
  {
   "cell_type": "code",
   "execution_count": 13,
   "metadata": {},
   "outputs": [],
   "source": [
    "import json\n",
    "import pandas as pd\n",
    "from datetime import datetime, timedelta\n",
    "import os\n",
    "import glob\n",
    "\n",
    "def get_friday(date_str):\n",
    "    date = datetime.strptime(date_str, \"%Y%m%dT%H%M%S\")\n",
    "    return (date + timedelta(days=(4 - date.weekday()))).strftime(\"%Y-%m-%d\")\n",
    "\n",
    "# Initialize a dictionary to hold all weekly articles\n",
    "weekly_articles = {}\n",
    "\n",
    "# Assuming all JSON news files are in the './News/' folder\n",
    "ticker = \"MSFT\"\n",
    "\n",
    "news_files = glob.glob(f'./News/{ticker}_News/*.json')\n",
    "for file_path in news_files:\n",
    "    with open(file_path, 'r') as file:\n",
    "        news_data = json.load(file)\n",
    "        # Process each article in the file\n",
    "        for article in news_data['feed']:\n",
    "            date = get_friday(article['time_published'])\n",
    "            if date not in weekly_articles:\n",
    "                weekly_articles[date] = []\n",
    "            weekly_articles[date].append(article)\n",
    "\n",
    "# Sort articles within each week\n",
    "for week in weekly_articles:\n",
    "    weekly_articles[week].sort(key=lambda x: x['time_published'])\n",
    "\n",
    "# Load price data\n",
    "with open(f'./Weekly-Closing-Prices/{ticker}_Pricing/{ticker}_weekly_close.json', 'r') as file:\n",
    "    price_data = json.load(file)\n",
    "\n",
    "def get_prices(week_date, price_data, past_weeks=12, future_weeks=12):\n",
    "    past_prices = {}\n",
    "    future_prices = {}\n",
    "    current_date = datetime.strptime(week_date, \"%Y-%m-%d\")\n",
    "    \n",
    "    # Get past prices\n",
    "    for _ in range(past_weeks):\n",
    "        current_date -= timedelta(days=7)\n",
    "        date_str = current_date.strftime(\"%Y-%m-%d\")\n",
    "        if date_str in price_data:\n",
    "            past_prices[date_str] = price_data[date_str]\n",
    "\n",
    "    # Reset date and get future prices\n",
    "    current_date = datetime.strptime(week_date, \"%Y-%m-%d\")\n",
    "    for _ in range(future_weeks):\n",
    "        current_date += timedelta(days=7)\n",
    "        date_str = current_date.strftime(\"%Y-%m-%d\")\n",
    "        if date_str in price_data:\n",
    "            future_prices[date_str] = price_data[date_str]\n",
    "\n",
    "    return past_prices, future_prices\n",
    "\n",
    "data = []\n",
    "\n",
    "start = f\"Given the following information, including news summaries with sentiment scores and stock closing prices for the past 3 months, predict the next 12 weeks of closing prices for {ticker}. The predictions should be returned in a date:price format, similar to the historical closing prices provided. Ensure each prediction is on a new line and follows the exact format as shown in the examples (YYYY-MM-DD: $price).\n",
    "\"\n",
    "\n",
    "for week, articles in weekly_articles.items():\n",
    "    # Sort articles by sentiment score in descending order\n",
    "    articles_sorted_positive = sorted([a for a in articles if a['overall_sentiment_score'] > 0], key=lambda x: x['overall_sentiment_score'], reverse=True)\n",
    "    articles_sorted_negative = sorted([a for a in articles if a['overall_sentiment_score'] < 0], key=lambda x: x['overall_sentiment_score'])\n",
    "    \n",
    "    # Combine the top 25 positive and top 25 negative articles, if available\n",
    "    top_articles = articles_sorted_positive[:10] + articles_sorted_negative[:10]\n",
    "    \n",
    "    prompt = f\"Week Ending on {week}:\\n\\nNews Summary:\\n\"\n",
    "    total_sentiment = 0\n",
    "    seen_titles = set()\n",
    "\n",
    "    for article in top_articles:\n",
    "        if article['title'] not in seen_titles:\n",
    "            date_published = datetime.strptime(article['time_published'], \"%Y%m%dT%H%M%S\").strftime(\"%Y-%m-%d\")\n",
    "            author = article['authors'][0] if article['authors'] else \"Unknown Author\"\n",
    "            prompt += f\"- Title: {article['title']}, Date: {date_published}, Author: {author}, Source: {article['source']}, Sentiment Score: {article['overall_sentiment_score']}\\n\"\n",
    "            total_sentiment += article['overall_sentiment_score']\n",
    "            seen_titles.add(article['title'])\n",
    "\n",
    "    past_prices, future_prices = get_prices(week, price_data)\n",
    "\n",
    "    prompt += \"\\nStock Closing Prices for Past 3 Months (Fridays):\\n\"\n",
    "    for date, price in sorted(past_prices.items()):\n",
    "        prompt += f\"{date}: ${price}, \\n\"\n",
    "\n",
    "    output = \"\\nPredicted Stock Closing Prices for Next 12 Weeks (Fridays):\\n\"\n",
    "    for date, price in sorted(future_prices.items()):\n",
    "        output += f\"{date}: ${price}, \"\n",
    "    output += f\"\\nPredicted Market Sentiment: {total_sentiment / len(seen_titles) if seen_titles else 'N/A'}\"\n",
    "\n",
    "    data.append([week, prompt, output])\n",
    "\n",
    "# Create DataFrame and save as Excel\n",
    "df = pd.DataFrame(data, columns=['Week', 'Prompt', 'Output'])\n",
    "df.to_excel(f'LLM-Training-Dataset/{ticker}_training_data_influential_articles.xlsx', index=False)"
   ]
  }
 ],
 "metadata": {
  "kernelspec": {
   "display_name": "Python 3",
   "language": "python",
   "name": "python3"
  },
  "language_info": {
   "codemirror_mode": {
    "name": "ipython",
    "version": 3
   },
   "file_extension": ".py",
   "mimetype": "text/x-python",
   "name": "python",
   "nbconvert_exporter": "python",
   "pygments_lexer": "ipython3",
   "version": "3.9.7"
  }
 },
 "nbformat": 4,
 "nbformat_minor": 2
}
