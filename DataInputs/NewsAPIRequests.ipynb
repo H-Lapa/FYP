{
 "cells": [
  {
   "cell_type": "code",
   "execution_count": 6,
   "metadata": {},
   "outputs": [
    {
     "name": "stderr",
     "output_type": "stream",
     "text": [
      "Python-dotenv could not parse statement starting at line 1\n"
     ]
    },
    {
     "name": "stdout",
     "output_type": "stream",
     "text": [
      "9UIHN8A96QYXPF43\n",
      "{'Information': 'Invalid inputs. Please refer to the API documentation https://www.alphavantage.co/documentation#newsapi and try again.'}\n",
      " \n",
      " Data successfully saved to AMZN_historical_news_data.json\n"
     ]
    }
   ],
   "source": [
    "import requests\n",
    "import json\n",
    "import os\n",
    "from dotenv import load_dotenv\n",
    "from pathlib import Path\n",
    "\n",
    "# Load .env file variables\n",
    "env_path = Path('../') / 'AlphaVantageKey.env'\n",
    "load_dotenv(dotenv_path=env_path)\n",
    "\n",
    "# Access the API key\n",
    "api_key = os.getenv('alphaKey4')\n",
    "print(api_key)\n",
    "\n",
    "ticker = 'AMZN'\n",
    "\n",
    "# API details\n",
    "url = 'https://www.alphavantage.co/query'\n",
    "params = {\n",
    "    'function': 'NEWS_SENTIMENT',\n",
    "    'tickers': ticker,\n",
    "    'limit': '500',\n",
    "    'apikey': api_key,\n",
    "    'time_from': '20221101T0000',\n",
    "    'time_to': '20221131T2359'\n",
    "}\n",
    "\n",
    "# Making the API request\n",
    "response = requests.get(url, params=params)\n",
    "\n",
    "# Check if the request was successful\n",
    "if response.status_code == 200:\n",
    "    # Get the JSON data from the response\n",
    "    news_data = response.json()\n",
    "\n",
    "    # Save the data to a file\n",
    "    with open(f'../DataInputs/News/{ticker}_historical_news_data.json', 'w') as file:\n",
    "        json.dump(news_data, file)\n",
    "        print(news_data)\n",
    "    print(f\" \\n Data successfully saved to {ticker}_historical_news_data.json\")\n",
    "else:\n",
    "    print(\"Error: Failed to fetch data. Status code:\", response.status_code)\n"
   ]
  },
  {
   "cell_type": "markdown",
   "metadata": {},
   "source": [
    "large api request\n"
   ]
  },
  {
   "cell_type": "code",
   "execution_count": 5,
   "metadata": {},
   "outputs": [
    {
     "name": "stderr",
     "output_type": "stream",
     "text": [
      "Python-dotenv could not parse statement starting at line 1\n"
     ]
    },
    {
     "name": "stdout",
     "output_type": "stream",
     "text": [
      "SUXI4GUYQFB5V15A\n",
      "20230101T0000 20230131T0000\n",
      "Data for 2023-01 successfully saved.\n",
      "20230201T0000 20230228T0000\n",
      "Data for 2023-02 successfully saved.\n",
      "20230301T0000 20230331T0000\n",
      "Data for 2023-03 successfully saved.\n",
      "20230401T0000 20230430T0000\n",
      "Data for 2023-04 successfully saved.\n",
      "20230501T0000 20230531T0000\n",
      "Data for 2023-05 successfully saved.\n",
      "20230601T0000 20230630T0000\n",
      "Data for 2023-06 successfully saved.\n",
      "20230701T0000 20230731T0000\n",
      "Data for 2023-07 successfully saved.\n",
      "20230801T0000 20230831T0000\n",
      "Data for 2023-08 successfully saved.\n",
      "20230901T0000 20230930T0000\n",
      "Data for 2023-09 successfully saved.\n",
      "20231001T0000 20231031T0000\n",
      "Data for 2023-10 successfully saved.\n",
      "20231101T0000 20231130T0000\n",
      "Data for 2023-11 successfully saved.\n",
      "20231201T0000 20231231T0000\n",
      "Data for 2023-12 successfully saved.\n",
      "All data fetching completed.\n"
     ]
    }
   ],
   "source": [
    "import requests\n",
    "from datetime import datetime, timedelta\n",
    "import os\n",
    "import json\n",
    "from dotenv import load_dotenv\n",
    "from pathlib import Path\n",
    "import time\n",
    "\n",
    "# Load .env file variables\n",
    "env_path = Path('..') / 'AlphaVantageKey.env'\n",
    "load_dotenv(dotenv_path=env_path)\n",
    "\n",
    "# Access the API key\n",
    "api_key = os.getenv('alphaKey2')\n",
    "print(api_key)\n",
    "\n",
    "# API details\n",
    "url = 'https://www.alphavantage.co/query'\n",
    "ticker = 'AMZN'\n",
    "\n",
    "# Generate monthly date ranges december 2022 - february 2024\n",
    "start_date = datetime(2022, 12, 1)\n",
    "end_date = datetime(2024, 1, 31)\n",
    "current_date = start_date\n",
    "\n",
    "while current_date <= end_date:\n",
    "    next_month = current_date + timedelta(days=32)  # Advance to next month\n",
    "    first_day_next_month = next_month.replace(day=1)\n",
    "    last_day_current_month = first_day_next_month - timedelta(days=1)\n",
    "\n",
    "    # Format dates for the API parameters\n",
    "    time_from = current_date.strftime('%Y%m%dT%H%M')\n",
    "    time_to = last_day_current_month.strftime('%Y%m%dT%H%M')\n",
    "\n",
    "    print( time_from, time_to)\n",
    "\n",
    "    # API parameters including the time range\n",
    "    params = {\n",
    "        'function': 'NEWS_SENTIMENT',\n",
    "        'tickers': ticker,\n",
    "        'time_from': time_from,\n",
    "        'time_to': time_to,\n",
    "        'limit': '1000',\n",
    "        'apikey': api_key\n",
    "    }\n",
    "\n",
    "    # Making the API request\n",
    "    response = requests.get(url, params=params)\n",
    "\n",
    "    # Check if the request was successful\n",
    "    if response.status_code == 200:\n",
    "        # Get the JSON data from the response\n",
    "        news_data = response.json()\n",
    "        \n",
    "        # Define a filename with the current date range for uniqueness\n",
    "        filename = f'./Amazon_News/News_{ticker}_{current_date.strftime(\"%Y%m\")}_to_{last_day_current_month.strftime(\"%Y%m\")}.json'\n",
    "        \n",
    "        # Save the data to a file\n",
    "        with open(filename, 'w') as file:\n",
    "            json.dump(news_data, file)\n",
    "            print(f\"Data for {current_date.strftime('%Y-%m')} successfully saved.\")\n",
    "    else:\n",
    "        print(f\"Error: Failed to fetch data for {current_date.strftime('%Y-%m')}. Status code:\", response.status_code)\n",
    "\n",
    "    # Prepare for the next iteration\n",
    "    current_date = first_day_next_month\n",
    "\n",
    "    # Sleep to avoid hitting the rate limit\n",
    "    time.sleep(12)  # Adjust based on your per-minute rate limit\n",
    "\n",
    "print(\"All data fetching completed.\")\n"
   ]
  }
 ],
 "metadata": {
  "kernelspec": {
   "display_name": "Python 3",
   "language": "python",
   "name": "python3"
  },
  "language_info": {
   "codemirror_mode": {
    "name": "ipython",
    "version": 3
   },
   "file_extension": ".py",
   "mimetype": "text/x-python",
   "name": "python",
   "nbconvert_exporter": "python",
   "pygments_lexer": "ipython3",
   "version": "3.9.7"
  }
 },
 "nbformat": 4,
 "nbformat_minor": 2
}
