{
 "cells": [
  {
   "cell_type": "markdown",
   "metadata": {},
   "source": [
    "# News API Requests\n",
    "\n",
    "- using the alphaVantage API to get the latest news for a given stock\n",
    "- Dataset goes back to 2022 December 1st to Present"
   ]
  },
  {
   "cell_type": "markdown",
   "metadata": {},
   "source": [
    "## Single API Request\n"
   ]
  },
  {
   "cell_type": "markdown",
   "metadata": {},
   "source": [
    "### Imports"
   ]
  },
  {
   "cell_type": "code",
   "execution_count": 1,
   "metadata": {},
   "outputs": [],
   "source": [
    "import requests\n",
    "import json\n",
    "import os\n",
    "from dotenv import load_dotenv\n",
    "from pathlib import Path\n"
   ]
  },
  {
   "cell_type": "markdown",
   "metadata": {},
   "source": [
    "### Fetching API Key"
   ]
  },
  {
   "cell_type": "code",
   "execution_count": 2,
   "metadata": {},
   "outputs": [
    {
     "name": "stderr",
     "output_type": "stream",
     "text": [
      "Python-dotenv could not parse statement starting at line 1\n"
     ]
    },
    {
     "name": "stdout",
     "output_type": "stream",
     "text": [
      "YEUR7ZM848BLEAJ8\n"
     ]
    }
   ],
   "source": [
    "\n",
    "# Load .env file variables\n",
    "env_path = Path('../') / 'AlphaVantageKey.env'\n",
    "load_dotenv(dotenv_path=env_path)\n",
    "\n",
    "# Access the API key\n",
    "api_key = os.getenv('alphaKey3')\n",
    "print(api_key)\n"
   ]
  },
  {
   "cell_type": "markdown",
   "metadata": {},
   "source": [
    "### API Request Sent"
   ]
  },
  {
   "cell_type": "code",
   "execution_count": 3,
   "metadata": {},
   "outputs": [],
   "source": [
    "\n",
    "ticker = 'AAPL'\n",
    "\n",
    "# API details\n",
    "url = 'https://www.alphavantage.co/query'\n",
    "params = {\n",
    "    'function': 'NEWS_SENTIMENT',\n",
    "    'tickers': ticker,\n",
    "    'limit': '500',\n",
    "    'apikey': api_key,\n",
    "    'time_from': '20221101T0000',\n",
    "    'time_to': '20221131T2359'\n",
    "}\n",
    "\n",
    "# Making the API request\n",
    "response = requests.get(url, params=params)\n"
   ]
  },
  {
   "cell_type": "markdown",
   "metadata": {},
   "source": [
    "### Handling Response"
   ]
  },
  {
   "cell_type": "code",
   "execution_count": 4,
   "metadata": {},
   "outputs": [
    {
     "name": "stdout",
     "output_type": "stream",
     "text": [
      "{'Information': 'Invalid inputs. Please refer to the API documentation https://www.alphavantage.co/documentation#newsapi and try again.'}\n",
      " \n",
      " Data successfully saved to AAPL_historical_news_data.json\n"
     ]
    }
   ],
   "source": [
    "\n",
    "# Check if the request was successful\n",
    "if response.status_code == 200:\n",
    "    # Get the JSON data from the response\n",
    "    news_data = response.json()\n",
    "\n",
    "    # Save the data to a file\n",
    "    with open(f'../DataInputs/News/{ticker}_historical_news_data.json', 'w') as file:\n",
    "        json.dump(news_data, file)\n",
    "        print(news_data)\n",
    "    print(f\" \\n Data successfully saved to {ticker}_historical_news_data.json\")\n",
    "else:\n",
    "    print(\"Error: Failed to fetch data. Status code:\", response.status_code)\n"
   ]
  },
  {
   "cell_type": "markdown",
   "metadata": {},
   "source": [
    "## Large API Request\n",
    "\n",
    "- Get News from a large time frame, based on the stock symbol"
   ]
  },
  {
   "cell_type": "markdown",
   "metadata": {},
   "source": [
    "### Imports"
   ]
  },
  {
   "cell_type": "code",
   "execution_count": 11,
   "metadata": {},
   "outputs": [],
   "source": [
    "import requests\n",
    "from datetime import datetime, timedelta\n",
    "import os\n",
    "import json\n",
    "from dotenv import load_dotenv\n",
    "from pathlib import Path\n",
    "import time\n"
   ]
  },
  {
   "cell_type": "markdown",
   "metadata": {},
   "source": [
    "### Fetching API Key"
   ]
  },
  {
   "cell_type": "code",
   "execution_count": 12,
   "metadata": {},
   "outputs": [
    {
     "name": "stderr",
     "output_type": "stream",
     "text": [
      "Python-dotenv could not parse statement starting at line 1\n"
     ]
    },
    {
     "name": "stdout",
     "output_type": "stream",
     "text": [
      "YEUR7ZM848BLEAJ8\n"
     ]
    }
   ],
   "source": [
    "\n",
    "# Load .env file variables\n",
    "env_path = Path('..') / 'AlphaVantageKey.env'\n",
    "load_dotenv(dotenv_path=env_path)\n",
    "\n",
    "# Access the API key\n",
    "api_key = os.getenv('alphaKey3')\n",
    "print(api_key)\n"
   ]
  },
  {
   "cell_type": "markdown",
   "metadata": {},
   "source": [
    "### API Details"
   ]
  },
  {
   "cell_type": "code",
   "execution_count": 13,
   "metadata": {},
   "outputs": [],
   "source": [
    "\n",
    "# API details\n",
    "url = 'https://www.alphavantage.co/query'\n",
    "\n",
    "ticker = 'AAPL'\n"
   ]
  },
  {
   "cell_type": "markdown",
   "metadata": {},
   "source": [
    "### Time Period For Requests"
   ]
  },
  {
   "cell_type": "code",
   "execution_count": 14,
   "metadata": {},
   "outputs": [],
   "source": [
    "\n",
    "# Generate monthly date ranges december 2022 - february 2024\n",
    "start_date = datetime(2022, 12, 1)\n",
    "end_date = datetime(2024, 1, 31)\n",
    "current_date = start_date\n"
   ]
  },
  {
   "cell_type": "markdown",
   "metadata": {},
   "source": [
    "### API Request Sent & Saved"
   ]
  },
  {
   "cell_type": "code",
   "execution_count": 15,
   "metadata": {},
   "outputs": [
    {
     "name": "stdout",
     "output_type": "stream",
     "text": [
      "Data for 2022-12 successfully saved.\n",
      "Data for 2023-01 successfully saved.\n",
      "Data for 2023-02 successfully saved.\n",
      "Data for 2023-03 successfully saved.\n",
      "Data for 2023-04 successfully saved.\n",
      "Data for 2023-05 successfully saved.\n",
      "Data for 2023-06 successfully saved.\n",
      "Data for 2023-07 successfully saved.\n",
      "Data for 2023-08 successfully saved.\n",
      "Data for 2023-09 successfully saved.\n",
      "Data for 2023-10 successfully saved.\n",
      "Data for 2023-11 successfully saved.\n",
      "Stopped early due to hitting the API rate limit.\n",
      "Data fetching process has been completed.\n"
     ]
    }
   ],
   "source": [
    "# Assuming the initial setup for variables like `current_date`, `end_date`, `ticker`, `api_key`, and `url` are done before this loop\n",
    "while current_date <= end_date:\n",
    "    next_month = current_date + timedelta(days=32)  # Advance to next month to ensure we move to the next month regardless of the current day\n",
    "    first_day_next_month = next_month.replace(day=1)  # The first day of the next month\n",
    "    last_day_current_month = first_day_next_month - timedelta(days=1)  # The last day of the current month by subtracting one day from the first day of the next month\n",
    "\n",
    "    # Format dates for the API parameters\n",
    "    time_from = current_date.strftime('%Y%m%dT%H%M')\n",
    "    time_to = last_day_current_month.strftime('%Y%m%dT%H%M')\n",
    "\n",
    "    # API parameters including the time range\n",
    "    params = {\n",
    "        'function': 'NEWS_SENTIMENT',\n",
    "        'tickers': ticker,\n",
    "        'time_from': time_from,\n",
    "        'time_to': time_to,\n",
    "        'limit': '1000',\n",
    "        'apikey': api_key\n",
    "    }\n",
    "\n",
    "    # Making the API request\n",
    "    response = requests.get(url, params=params)\n",
    "\n",
    "    # Check if the request was successful\n",
    "    if response.status_code == 200:\n",
    "        news_data = response.json()\n",
    "\n",
    "        # Check if the API response is the rate limit message\n",
    "        if 'Information' in news_data and 'rate limit' in news_data['Information']:\n",
    "            print(\"Stopped early due to hitting the API rate limit.\")\n",
    "            break  # Stop the loop\n",
    "\n",
    "        # Define the directory and filename for saving the data\n",
    "        directory = f'./News/{ticker}_News'\n",
    "        filename = f'{directory}/News_{ticker}_{current_date.strftime(\"%Y%m\")}_to_{last_day_current_month.strftime(\"%Y%m\")}.json'\n",
    "        \n",
    "        # Check if the directory exists, if not create it\n",
    "        if not os.path.exists(directory):\n",
    "            os.makedirs(directory)\n",
    "        \n",
    "        # Save the data to a file\n",
    "        with open(filename, 'w') as file:\n",
    "            json.dump(news_data, file)\n",
    "            print(f\"Data for {current_date.strftime('%Y-%m')} successfully saved.\")\n",
    "    else:\n",
    "        print(f\"Error: Failed to fetch data for {current_date.strftime('%Y-%m')}. Status code: {response.status_code}\")\n",
    "\n",
    "    # Prepare for the next iteration\n",
    "    current_date = first_day_next_month\n",
    "\n",
    "    # Sleep to avoid hitting the rate limit\n",
    "    time.sleep(12)  # Adjust based on your per-minute rate limit\n",
    "\n",
    "print(\"Data fetching process has been completed.\")"
   ]
  }
 ],
 "metadata": {
  "kernelspec": {
   "display_name": "Python 3",
   "language": "python",
   "name": "python3"
  },
  "language_info": {
   "codemirror_mode": {
    "name": "ipython",
    "version": 3
   },
   "file_extension": ".py",
   "mimetype": "text/x-python",
   "name": "python",
   "nbconvert_exporter": "python",
   "pygments_lexer": "ipython3",
   "version": "3.9.7"
  }
 },
 "nbformat": 4,
 "nbformat_minor": 2
}
