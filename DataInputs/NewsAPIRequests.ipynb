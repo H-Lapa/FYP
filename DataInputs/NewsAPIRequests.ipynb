{
 "cells": [
  {
   "cell_type": "code",
   "execution_count": 4,
   "metadata": {},
   "outputs": [
    {
     "name": "stdout",
     "output_type": "stream",
     "text": [
      "Data successfully saved to amazon_news_data.json\n"
     ]
    }
   ],
   "source": [
    "import requests\n",
    "import json\n",
    "\n",
    "# API details\n",
    "url = 'https://www.alphavantage.co/query?function=NEWS_SENTIMENT&tickers=AMZN&apikey=N1X6FN06RKI1RYWI'\n",
    "params = {\n",
    "    'function': 'NEWS_SENTIMENT',\n",
    "    'tickers': 'AMZN',\n",
    "    'apikey': 'N1X6FN06RKI1RYWI'  # Replace with your actual API key\n",
    "}\n",
    "\n",
    "# Making the API request\n",
    "response = requests.get(url, params=params)\n",
    "\n",
    "# Check if the request was successful\n",
    "if response.status_code == 200:\n",
    "    # Get the JSON data from the response\n",
    "    news_data = response.json()\n",
    "\n",
    "    # Save the data to a file\n",
    "    with open('amazon_news_data.json', 'w') as file:\n",
    "        json.dump(news_data, file)\n",
    "    print(\"Data successfully saved to amazon_news_data.json\")\n",
    "else:\n",
    "    print(\"Error: Failed to fetch data. Status code:\", response.status_code)\n"
   ]
  }
 ],
 "metadata": {
  "kernelspec": {
   "display_name": "Python 3",
   "language": "python",
   "name": "python3"
  },
  "language_info": {
   "codemirror_mode": {
    "name": "ipython",
    "version": 3
   },
   "file_extension": ".py",
   "mimetype": "text/x-python",
   "name": "python",
   "nbconvert_exporter": "python",
   "pygments_lexer": "ipython3",
   "version": "3.9.7"
  }
 },
 "nbformat": 4,
 "nbformat_minor": 2
}
