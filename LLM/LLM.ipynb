{
 "cells": [
  {
   "cell_type": "code",
   "execution_count": 1,
   "metadata": {},
   "outputs": [
    {
     "ename": "ModuleNotFoundError",
     "evalue": "No module named 'llama_cpp'",
     "output_type": "error",
     "traceback": [
      "\u001b[1;31m---------------------------------------------------------------------------\u001b[0m",
      "\u001b[1;31mModuleNotFoundError\u001b[0m                       Traceback (most recent call last)",
      "Cell \u001b[1;32mIn[1], line 1\u001b[0m\n\u001b[1;32m----> 1\u001b[0m \u001b[38;5;28;01mfrom\u001b[39;00m \u001b[38;5;21;01mllama_cpp\u001b[39;00m \u001b[38;5;28;01mimport\u001b[39;00m Llama\n\u001b[0;32m      3\u001b[0m \u001b[38;5;66;03m# Download the model file first to your local directory\u001b[39;00m\n\u001b[0;32m      4\u001b[0m model_path \u001b[38;5;241m=\u001b[39m \u001b[38;5;124m\"\u001b[39m\u001b[38;5;124m./finance-chat.Q3_K_M.gguf\u001b[39m\u001b[38;5;124m\"\u001b[39m  \u001b[38;5;66;03m# Example GGUF file\u001b[39;00m\n",
      "\u001b[1;31mModuleNotFoundError\u001b[0m: No module named 'llama_cpp'"
     ]
    }
   ],
   "source": [
    "from llama_cpp import Llama\n",
    "\n",
    "# Download the model file first to your local directory\n",
    "model_path = \"./Models/finance-chat.Q3_K_M.gguf\"  # Example GGUF file\n",
    "\n",
    "# Initialize the Llama model with the GGUF file\n",
    "llm = Llama(\n",
    "    model_path=model_path,\n",
    "    n_ctx=4096,  # The max sequence length to use\n",
    "    n_threads=8,  # The number of CPU threads to use\n",
    "    n_gpu_layers=35  # The number of layers to offload to GPU\n",
    ")\n",
    "\n",
    "# Example usage of the model\n",
    "output = llm(\n",
    "    \"[INST] <<SYS>>\\n{system_message}\\n<</SYS>>\\n{prompt} [/INST]\",  # The prompt\n",
    "    max_tokens=512,  # Maximum number of tokens to generate\n",
    "    stop=[\"</s>\"],  # Stop token\n",
    "    echo=True  # Whether to echo the prompt in the output\n",
    ")\n",
    "\n",
    "# Print the generated output\n",
    "print(output)\n"
   ]
  }
 ],
 "metadata": {
  "kernelspec": {
   "display_name": "Python 3",
   "language": "python",
   "name": "python3"
  },
  "language_info": {
   "codemirror_mode": {
    "name": "ipython",
    "version": 3
   },
   "file_extension": ".py",
   "mimetype": "text/x-python",
   "name": "python",
   "nbconvert_exporter": "python",
   "pygments_lexer": "ipython3",
   "version": "3.9.7"
  }
 },
 "nbformat": 4,
 "nbformat_minor": 2
}
