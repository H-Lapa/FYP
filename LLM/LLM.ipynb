{
 "cells": [
  {
   "cell_type": "markdown",
   "metadata": {},
   "source": [
    "## Runnning Base Model"
   ]
  },
  {
   "cell_type": "code",
   "execution_count": 1,
   "metadata": {},
   "outputs": [
    {
     "ename": "ModuleNotFoundError",
     "evalue": "No module named 'llama_cpp'",
     "output_type": "error",
     "traceback": [
      "\u001b[1;31m---------------------------------------------------------------------------\u001b[0m",
      "\u001b[1;31mModuleNotFoundError\u001b[0m                       Traceback (most recent call last)",
      "Cell \u001b[1;32mIn[1], line 1\u001b[0m\n\u001b[1;32m----> 1\u001b[0m \u001b[38;5;28;01mfrom\u001b[39;00m \u001b[38;5;21;01mllama_cpp\u001b[39;00m \u001b[38;5;28;01mimport\u001b[39;00m Llama\n\u001b[0;32m      3\u001b[0m \u001b[38;5;66;03m# Download the model file first to your local directory\u001b[39;00m\n\u001b[0;32m      4\u001b[0m model_path \u001b[38;5;241m=\u001b[39m \u001b[38;5;124m\"\u001b[39m\u001b[38;5;124m./finance-chat.Q3_K_M.gguf\u001b[39m\u001b[38;5;124m\"\u001b[39m  \u001b[38;5;66;03m# Example GGUF file\u001b[39;00m\n",
      "\u001b[1;31mModuleNotFoundError\u001b[0m: No module named 'llama_cpp'"
     ]
    }
   ],
   "source": [
    "from llama_cpp import Llama\n",
    "\n",
    "# Download the model file first to your local directory\n",
    "model_path = \"./Models/finance-chat.Q3_K_M.gguf\"  # Example GGUF file\n",
    "\n",
    "# Initialize the Llama model with the GGUF file\n",
    "llm = Llama(\n",
    "    model_path=model_path,\n",
    "    n_ctx=4096,  # The max sequence length to use\n",
    "    n_threads=8,  # The number of CPU threads to use\n",
    "    n_gpu_layers=35  # The number of layers to offload to GPU\n",
    ")\n",
    "\n",
    "# Example usage of the model\n",
    "output = llm(\n",
    "    \"[INST] <<SYS>>\\n{system_message}\\n<</SYS>>\\n{prompt} [/INST]\",  # The prompt\n",
    "    max_tokens=512,  # Maximum number of tokens to generate\n",
    "    stop=[\"</s>\"],  # Stop token\n",
    "    echo=True  # Whether to echo the prompt in the output\n",
    ")\n",
    "\n",
    "# Print the generated output\n",
    "print(output)\n"
   ]
  },
  {
   "cell_type": "markdown",
   "metadata": {},
   "source": [
    "## Training the model"
   ]
  },
  {
   "cell_type": "code",
   "execution_count": null,
   "metadata": {},
   "outputs": [],
   "source": [
    "from transformers import AutoModelForCausalLM, AutoTokenizer, Trainer, TrainingArguments\n",
    "import pandas as pd\n",
    "from datasets import Dataset\n",
    "\n",
    "# Load your dataset\n",
    "data_path = \"your_dataset.csv\"\n",
    "df = pd.read_csv(data_path)\n",
    "\n",
    "# Preprocess data\n",
    "# Assuming 'prompt' is your input and 'output' is the target\n",
    "dataset = Dataset.from_pandas(df)\n",
    "def preprocess(examples):\n",
    "    return tokenizer(examples[\"prompt\"], max_length=512, truncation=True, padding=\"max_length\"), tokenizer(examples[\"output\"], max_length=512, truncation=True, padding=\"max_length\")\n",
    "dataset = dataset.map(preprocess, batched=True)\n",
    "\n",
    "# Load tokenizer and model\n",
    "model_name = \"your_pretrained_model_name_here\"\n",
    "tokenizer = AutoTokenizer.from_pretrained(model_name)\n",
    "model = AutoModelForCausalLM.from_pretrained(model_name)\n",
    "\n",
    "# Define training arguments\n",
    "training_args = TrainingArguments(\n",
    "    output_dir=\"./model_output\",\n",
    "    num_train_epochs=3,\n",
    "    per_device_train_batch_size=4,\n",
    "    gradient_accumulation_steps=8,\n",
    "    warmup_steps=500,\n",
    "    weight_decay=0.01,\n",
    "    logging_dir=\"./logs\",\n",
    "    logging_steps=10,\n",
    ")\n",
    "\n",
    "# Initialize Trainer\n",
    "trainer = Trainer(\n",
    "    model=model,\n",
    "    args=training_args,\n",
    "    train_dataset=dataset,\n",
    ")\n",
    "\n",
    "# Train\n",
    "trainer.train()\n",
    "\n",
    "# Save the model\n",
    "trainer.save_model(\"./fine_tuned_model\")\n"
   ]
  },
  {
   "cell_type": "markdown",
   "metadata": {},
   "source": [
    "## Testing the Model"
   ]
  },
  {
   "cell_type": "code",
   "execution_count": null,
   "metadata": {},
   "outputs": [],
   "source": []
  }
 ],
 "metadata": {
  "kernelspec": {
   "display_name": "Python 3",
   "language": "python",
   "name": "python3"
  },
  "language_info": {
   "codemirror_mode": {
    "name": "ipython",
    "version": 3
   },
   "file_extension": ".py",
   "mimetype": "text/x-python",
   "name": "python",
   "nbconvert_exporter": "python",
   "pygments_lexer": "ipython3",
   "version": "3.9.7"
  }
 },
 "nbformat": 4,
 "nbformat_minor": 2
}
